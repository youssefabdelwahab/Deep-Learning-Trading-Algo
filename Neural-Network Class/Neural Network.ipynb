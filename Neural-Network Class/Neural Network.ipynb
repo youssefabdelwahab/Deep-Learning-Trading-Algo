{
 "cells": [
  {
   "cell_type": "code",
   "execution_count": 1,
   "metadata": {},
   "outputs": [],
   "source": [
    "import math \n",
    "import numpy as np "
   ]
  },
  {
   "cell_type": "code",
   "execution_count": 2,
   "metadata": {},
   "outputs": [],
   "source": [
    "def binary_crossentropy(y_test , y_predicted): \n",
    "    epsilon = 1e-18\n",
    "    y_predicted_adj = [max(i,epsilon) for i in y_predicted]\n",
    "    y_predicted_adj = [min(i,1-epsilon) for i in y_predicted_new]\n",
    "    y_predicted_adj = np.array(y_predicted_adj)\n",
    "    return -np.mean(y_test * np.log(y_predicted_adj) + (1-y_test) * np.log(1-y_predicted_adj) )\n",
    "    "
   ]
  },
  {
   "cell_type": "code",
   "execution_count": 4,
   "metadata": {},
   "outputs": [],
   "source": [
    "def sigmoid(x): \n",
    "    return 1/(1 + np.exp(-x))"
   ]
  },
  {
   "cell_type": "code",
   "execution_count": 5,
   "metadata": {},
   "outputs": [],
   "source": [
    "def fit(feature_1 , feature_2, epochs , learning_rate ):\n",
    "    w1 , w2 = 1\n",
    "    bias = 0 \n",
    "    rate = learning_rate\n",
    "    n = len(feature_1)\n",
    "    \n",
    "    for i in range(epochs): \n",
    "        sum_weights  = w1*feature_1 + w2*feature_2 + bias \n",
    "        y_predicted = sigmoid(sum_weights)\n",
    "        \n",
    "        loss = binary_crossentropy(y_test - y_predicted)\n",
    "        \n",
    "        w1d = (1/n)(np.dot(np.transpose(feature_1), (y_predicted - y_test)))\n",
    "        w2d = (1/n)(np.dot(np.transpose(feature_2), (y_predicted - y_test)))\n",
    "        bias_d = np.mean(y_predicted - y_test)\n",
    "        \n",
    "        w1 = w1 - (rate(w1d))\n",
    "        w2 = w2 - (rate(w2d))\n",
    "        bias = bias - (rate(bias_d))\n",
    "        \n",
    "        print(f\"Epochs:{i} , loss:{loss}\")\n",
    "\n",
    "    "
   ]
  },
  {
   "cell_type": "code",
   "execution_count": null,
   "metadata": {},
   "outputs": [],
   "source": []
  }
 ],
 "metadata": {
  "kernelspec": {
   "display_name": "Python 3",
   "language": "python",
   "name": "python3"
  },
  "language_info": {
   "codemirror_mode": {
    "name": "ipython",
    "version": 3
   },
   "file_extension": ".py",
   "mimetype": "text/x-python",
   "name": "python",
   "nbconvert_exporter": "python",
   "pygments_lexer": "ipython3",
   "version": "3.8.3"
  }
 },
 "nbformat": 4,
 "nbformat_minor": 4
}
